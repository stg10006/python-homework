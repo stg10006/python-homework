{
 "cells": [
  {
   "cell_type": "code",
   "execution_count": 1,
   "id": "99344e8d-42de-4bc9-bc03-fbe760f1a168",
   "metadata": {},
   "outputs": [],
   "source": [
    "from pathlib import Path\n",
    "import csv"
   ]
  },
  {
   "cell_type": "code",
   "execution_count": 2,
   "id": "1fd5ae5e-7dc2-4986-a657-e0592dcb778e",
   "metadata": {},
   "outputs": [],
   "source": [
    "csvpath = Path(\"budget_data.csv\")"
   ]
  },
  {
   "cell_type": "code",
   "execution_count": 3,
   "id": "4ddfa1fc-fa72-4944-a7ed-bf4ddeffb715",
   "metadata": {},
   "outputs": [],
   "source": [
    "total_months = 0 \n",
    "total_pnl = 0\n",
    "changes = []\n",
    "increase = [\"\", 0]\n",
    "decrease  = [\"\", 0]"
   ]
  },
  {
   "cell_type": "code",
   "execution_count": 29,
   "id": "62baec8b-2877-4edd-9610-91819d94598d",
   "metadata": {},
   "outputs": [
    {
     "name": "stdout",
     "output_type": "stream",
     "text": [
      "-2315.12\n"
     ]
    }
   ],
   "source": [
    "with open(csvpath) as data:\n",
    "    reader = csv.reader(data)\n",
    "    header = next(reader)\n",
    "    \n",
    "    first_row = next(reader)\n",
    "    total_months = total_months + 1\n",
    "    total_pnl = total_pnl + int(first_row[1])\n",
    "    previous_pnl = int(first_row[1])\n",
    "    \n",
    "    for row in reader:\n",
    "        total_months = total_months + 1\n",
    "        total_pnl = total_pnl + int(row[1])\n",
    "        change = int(row[1]) - previous_pnl\n",
    "        previous_pnl = int(row[1])\n",
    "        changes.append(change)\n",
    "        \n",
    "        if change > increase[1]:\n",
    "            increase[0] = row[0]\n",
    "            increase[1] = change\n",
    "            \n",
    "        if change < decrease[1]:\n",
    "            decrease[0] = row[0]\n",
    "            decrease[1] = change\n",
    "        \n",
    "average_change = round(sum(changes) / len(changes), 2)\n",
    "print(average_change)"
   ]
  },
  {
   "cell_type": "code",
   "execution_count": 30,
   "id": "8bf65d1c-7a50-49c1-aa9e-613b3155f4d6",
   "metadata": {},
   "outputs": [
    {
     "name": "stdout",
     "output_type": "stream",
     "text": [
      "Financial Analysis\n",
      "-------------------------\n",
      "Total Months: 1204\n",
      "Total: $537356092\n",
      "Average Change: -2315.12\n"
     ]
    }
   ],
   "source": [
    "print(f'Financial Analysis')\n",
    "print(f'-------------------------')\n",
    "print(f'Total Months: {total_months}')\n",
    "print(f'Total: ${total_pnl}')\n",
    "print(f'Average Change: {average_change}')"
   ]
  },
  {
   "cell_type": "code",
   "execution_count": 21,
   "id": "5041f678-e61b-44d5-8195-39478ed4a68b",
   "metadata": {},
   "outputs": [],
   "source": [
    "csvoutput = 'output.txt'\n",
    "with open(csvoutput, 'w') as output:\n",
    "    output.write(f'Financial Analysis\\n')\n",
    "    output.write(f'----------------------------\\n')\n",
    "    output.write(f'Total Months: {total_months}\\n')\n",
    "    output.write(f'Total: ${total_pnl}\\n')\n",
    "    output.write(f'Average Change: {average_change}\\n')\n",
    "    output.write(f'Greatest Increase in Profits: {}\\n')\n",
    "    output.write(f'Greatest Decrease in Profits: {}\\n')\n",
    "    "
   ]
  },
  {
   "cell_type": "code",
   "execution_count": null,
   "id": "03fbd9a1-f145-424e-a7c6-4c3f77c4640a",
   "metadata": {},
   "outputs": [],
   "source": []
  }
 ],
 "metadata": {
  "kernelspec": {
   "display_name": "Python 3 (ipykernel)",
   "language": "python",
   "name": "python3"
  },
  "language_info": {
   "codemirror_mode": {
    "name": "ipython",
    "version": 3
   },
   "file_extension": ".py",
   "mimetype": "text/x-python",
   "name": "python",
   "nbconvert_exporter": "python",
   "pygments_lexer": "ipython3",
   "version": "3.10.11"
  }
 },
 "nbformat": 4,
 "nbformat_minor": 5
}
